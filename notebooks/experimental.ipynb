{
 "cells": [
  {
   "cell_type": "code",
   "execution_count": 5,
   "metadata": {},
   "outputs": [],
   "source": [
    "import os\n",
    "from os.path import join\n",
    "import zipfile\n",
    "from price_prediction.predictor import Regressor\n",
    "\n",
    "featuriser_path = join(*[os.pardir, \"weights\", \"featuriser.zip\"])\n",
    "model_path = join(*[os.pardir, \"weights\", \"model_weights.zip\"])\n",
    "with zipfile.ZipFile(featuriser_path,\"r\") as zip_ref:\n",
    "    zip_ref.extractall(join(*[os.pardir, \"weights\"]))\n",
    "with zipfile.ZipFile(model_path,\"r\") as zip_ref:\n",
    "    zip_ref.extractall(join(*[os.pardir, \"weights\"]))\n",
    "\n",
    "pipeline = Regressor.load(\n",
    "    feat_path=join(*[os.pardir, \"weights\", \"featuriser.pkl\"]),\n",
    "    model_path=join(*[os.pardir, \"weights\", \"model_weights.pkl\"]))\n",
    "\n",
    "if os.path.isfile(join(*[os.pardir, \"weights\", \"featuriser.pkl\"])):\n",
    "    os.remove(join(*[os.pardir, \"weights\", \"featuriser.pkl\"]))\n",
    "if os.path.isfile(join(*[os.pardir, \"weights\", \"model_weights.pkl\"])):\n",
    "    os.remove(join(*[os.pardir, \"weights\", \"model_weights.pkl\"]))\n"
   ]
  },
  {
   "cell_type": "code",
   "execution_count": 6,
   "metadata": {},
   "outputs": [
    {
     "data": {
      "text/plain": [
       "{'price': 44}"
      ]
     },
     "execution_count": 6,
     "metadata": {},
     "output_type": "execute_result"
    }
   ],
   "source": [
    "pipeline({\n",
    "  \"name\": \"Hold Alyssa Frye Harness boots 12R, Sz 7\",\n",
    "  \"item_condition_id\": 3,\n",
    "  \"category_name\": \"Women/Shoes/Boots\",\n",
    "})"
   ]
  },
  {
   "cell_type": "code",
   "execution_count": null,
   "metadata": {},
   "outputs": [],
   "source": []
  }
 ],
 "metadata": {
  "interpreter": {
   "hash": "ac8001ea20c1dc4532202af5772301c6d48b4396ecb4a4ae510a1cde16f6f3a8"
  },
  "kernelspec": {
   "display_name": "Python 3.8.12 64-bit ('new_mer': conda)",
   "language": "python",
   "name": "python3"
  },
  "language_info": {
   "codemirror_mode": {
    "name": "ipython",
    "version": 3
   },
   "file_extension": ".py",
   "mimetype": "text/x-python",
   "name": "python",
   "nbconvert_exporter": "python",
   "pygments_lexer": "ipython3",
   "version": "3.8.12"
  },
  "orig_nbformat": 4
 },
 "nbformat": 4,
 "nbformat_minor": 2
}
